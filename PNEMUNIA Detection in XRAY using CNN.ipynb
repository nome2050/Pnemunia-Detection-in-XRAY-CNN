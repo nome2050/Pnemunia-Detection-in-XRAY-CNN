{
 "cells": [
  {
   "cell_type": "code",
   "execution_count": 10,
   "metadata": {},
   "outputs": [
    {
     "name": "stderr",
     "output_type": "stream",
     "text": [
      "Using TensorFlow backend.\n"
     ]
    }
   ],
   "source": [
    "import numpy as np\n",
    "import pandas as pd\n",
    "import matplotlib as plt\n",
    "import os\n",
    "import keras\n",
    "from keras.models import Sequential\n",
    "from keras.layers import Conv2D\n",
    "from keras.layers import MaxPooling2D\n",
    "from keras.layers import Flatten\n",
    "from keras.layers import Dense\n",
    "from keras.preprocessing.image import ImageDataGenerator, load_img"
   ]
  },
  {
   "cell_type": "code",
   "execution_count": 9,
   "metadata": {},
   "outputs": [
    {
     "data": {
      "text/plain": [
       "['val',\n",
       " 'train',\n",
       " 'PNEMUNIA Detection in XRAY using CNN.ipynb',\n",
       " '.ipynb_checkpoints',\n",
       " 'test',\n",
       " '.DS_Store']"
      ]
     },
     "execution_count": 9,
     "metadata": {},
     "output_type": "execute_result"
    }
   ],
   "source": [
    "os.listdir('/home/ipc-admin/Documents/CHEST/chest_xray/chest_xray')"
   ]
  },
  {
   "cell_type": "code",
   "execution_count": 11,
   "metadata": {},
   "outputs": [
    {
     "name": "stdout",
     "output_type": "stream",
     "text": [
      "Found 5216 images belonging to 2 classes.\n",
      "Found 16 images belonging to 2 classes.\n",
      "Found 624 images belonging to 2 classes.\n"
     ]
    }
   ],
   "source": [
    "train_datagen = ImageDataGenerator(rescale = 1./255,\n",
    "                                   shear_range = 0.2,\n",
    "                                   zoom_range = 0.2,\n",
    "                                   horizontal_flip = True)\n",
    "\n",
    "test_datagen = ImageDataGenerator(rescale = 1./255) \n",
    "\n",
    "training_set = train_datagen.flow_from_directory('/home/ipc-admin/Documents/CHEST/chest_xray/chest_xray/train',\n",
    "                                                 target_size = (64, 64),\n",
    "                                                 batch_size = 32,\n",
    "                                                 class_mode = 'binary')\n",
    "\n",
    "validation_generator = test_datagen.flow_from_directory('/home/ipc-admin/Documents/CHEST/chest_xray/chest_xray/val/',\n",
    "    target_size=(64, 64),\n",
    "    batch_size=32,\n",
    "    class_mode='binary')\n",
    "\n",
    "test_set = test_datagen.flow_from_directory('/home/ipc-admin/Documents/CHEST/chest_xray/chest_xray/test',\n",
    "                                            target_size = (64, 64),\n",
    "                                            batch_size = 32,\n",
    "                                            class_mode = 'binary')\n",
    "\n"
   ]
  },
  {
   "cell_type": "code",
   "execution_count": 12,
   "metadata": {},
   "outputs": [
    {
     "name": "stdout",
     "output_type": "stream",
     "text": [
      "WARNING:tensorflow:From /home/ipc-admin/anaconda3/lib/python3.7/site-packages/tensorflow/python/framework/op_def_library.py:263: colocate_with (from tensorflow.python.framework.ops) is deprecated and will be removed in a future version.\n",
      "Instructions for updating:\n",
      "Colocations handled automatically by placer.\n"
     ]
    }
   ],
   "source": [
    "cnn = Sequential()\n",
    "cnn.add(Conv2D(32, (3, 3), activation=\"relu\", input_shape=(64, 64, 3)))\n",
    "cnn.add(MaxPooling2D(pool_size = (2, 2)))\n",
    "cnn.add(Conv2D(32, (3, 3), activation=\"relu\"))\n",
    "cnn.add(MaxPooling2D(pool_size = (2, 2)))\n",
    "cnn.add(Flatten())\n",
    "cnn.add(Dense(activation = 'relu', units = 128))\n",
    "cnn.add(Dense(activation = 'sigmoid', units = 1))\n",
    "cnn.compile(optimizer = 'adam', loss = 'binary_crossentropy', metrics = ['accuracy'])"
   ]
  },
  {
   "cell_type": "code",
   "execution_count": 13,
   "metadata": {},
   "outputs": [
    {
     "name": "stdout",
     "output_type": "stream",
     "text": [
      "_________________________________________________________________\n",
      "Layer (type)                 Output Shape              Param #   \n",
      "=================================================================\n",
      "conv2d_1 (Conv2D)            (None, 62, 62, 32)        896       \n",
      "_________________________________________________________________\n",
      "max_pooling2d_1 (MaxPooling2 (None, 31, 31, 32)        0         \n",
      "_________________________________________________________________\n",
      "conv2d_2 (Conv2D)            (None, 29, 29, 32)        9248      \n",
      "_________________________________________________________________\n",
      "max_pooling2d_2 (MaxPooling2 (None, 14, 14, 32)        0         \n",
      "_________________________________________________________________\n",
      "flatten_1 (Flatten)          (None, 6272)              0         \n",
      "_________________________________________________________________\n",
      "dense_1 (Dense)              (None, 128)               802944    \n",
      "_________________________________________________________________\n",
      "dense_2 (Dense)              (None, 1)                 129       \n",
      "=================================================================\n",
      "Total params: 813,217\n",
      "Trainable params: 813,217\n",
      "Non-trainable params: 0\n",
      "_________________________________________________________________\n"
     ]
    }
   ],
   "source": [
    "cnn.summary()"
   ]
  },
  {
   "cell_type": "code",
   "execution_count": 14,
   "metadata": {},
   "outputs": [
    {
     "name": "stdout",
     "output_type": "stream",
     "text": [
      "WARNING:tensorflow:From /home/ipc-admin/anaconda3/lib/python3.7/site-packages/tensorflow/python/ops/math_ops.py:3066: to_int32 (from tensorflow.python.ops.math_ops) is deprecated and will be removed in a future version.\n",
      "Instructions for updating:\n",
      "Use tf.cast instead.\n",
      "Epoch 1/10\n",
      "150/150 [==============================] - 105s 699ms/step - loss: 0.3772 - acc: 0.8317 - val_loss: 0.7981 - val_acc: 0.6250\n",
      "Epoch 2/10\n",
      "150/150 [==============================] - 105s 700ms/step - loss: 0.2338 - acc: 0.9046 - val_loss: 0.3538 - val_acc: 0.8125\n",
      "Epoch 3/10\n",
      "150/150 [==============================] - 107s 711ms/step - loss: 0.2249 - acc: 0.9087 - val_loss: 0.2106 - val_acc: 0.9375\n",
      "Epoch 4/10\n",
      "150/150 [==============================] - 105s 699ms/step - loss: 0.2068 - acc: 0.9142 - val_loss: 0.3986 - val_acc: 0.6875\n",
      "Epoch 5/10\n",
      "150/150 [==============================] - 102s 683ms/step - loss: 0.1792 - acc: 0.9300 - val_loss: 0.4358 - val_acc: 0.6875\n",
      "Epoch 6/10\n",
      "150/150 [==============================] - 109s 725ms/step - loss: 0.1816 - acc: 0.9285 - val_loss: 0.4852 - val_acc: 0.6875\n",
      "Epoch 7/10\n",
      "150/150 [==============================] - 105s 697ms/step - loss: 0.1756 - acc: 0.9313 - val_loss: 0.3854 - val_acc: 0.8125\n",
      "Epoch 8/10\n",
      "150/150 [==============================] - 102s 679ms/step - loss: 0.1639 - acc: 0.9381 - val_loss: 0.4096 - val_acc: 0.8125\n",
      "Epoch 9/10\n",
      "150/150 [==============================] - 102s 683ms/step - loss: 0.1607 - acc: 0.9385 - val_loss: 0.5602 - val_acc: 0.6875\n",
      "Epoch 10/10\n",
      "150/150 [==============================] - 100s 665ms/step - loss: 0.1404 - acc: 0.9479 - val_loss: 0.4679 - val_acc: 0.8125\n"
     ]
    }
   ],
   "source": [
    "cnn_model = cnn.fit_generator(training_set,\n",
    "                         steps_per_epoch = 150,\n",
    "                         epochs = 10,\n",
    "                         validation_data = validation_generator,\n",
    "                         validation_steps = 500) "
   ]
  },
  {
   "cell_type": "code",
   "execution_count": 15,
   "metadata": {},
   "outputs": [
    {
     "name": "stdout",
     "output_type": "stream",
     "text": [
      "The testing accuracy is : 89.26282051282051 %\n"
     ]
    }
   ],
   "source": [
    "test_accu = cnn.evaluate_generator(test_set,steps=500)\n",
    "\n",
    "print('The testing accuracy is :',test_accu[1]*100, '%')\n",
    "\n"
   ]
  },
  {
   "cell_type": "code",
   "execution_count": 20,
   "metadata": {},
   "outputs": [],
   "source": [
    "cnn.save_weights(\"chestmodel.h5\")"
   ]
  },
  {
   "cell_type": "code",
   "execution_count": 16,
   "metadata": {},
   "outputs": [],
   "source": [
    "from keras.preprocessing import image\n",
    "from PIL import Image\n",
    "test_image = image.load_img('/home/ipc-admin/Documents/CHEST/chest_xray/chest_xray/test/PNEUMONIA/person89_bacteria_440.jpeg')\n",
    "test_image = test_image.resize((64, 64), Image.ANTIALIAS)\n",
    "test_image = image.img_to_array(test_image)\n",
    "test_image = np.expand_dims(test_image,axis=0)"
   ]
  },
  {
   "cell_type": "code",
   "execution_count": 17,
   "metadata": {},
   "outputs": [],
   "source": [
    "value = cnn.predict_classes(test_image)"
   ]
  },
  {
   "cell_type": "code",
   "execution_count": 18,
   "metadata": {},
   "outputs": [
    {
     "name": "stdout",
     "output_type": "stream",
     "text": [
      "PNEUMONIA\n"
     ]
    }
   ],
   "source": [
    "if value[0][0]==1:\n",
    "    print(\"PNEUMONIA\")\n",
    "else:\n",
    "    print(\"NORMAL\")"
   ]
  },
  {
   "cell_type": "code",
   "execution_count": null,
   "metadata": {},
   "outputs": [],
   "source": []
  }
 ],
 "metadata": {
  "kernelspec": {
   "display_name": "Python 3",
   "language": "python",
   "name": "python3"
  },
  "language_info": {
   "codemirror_mode": {
    "name": "ipython",
    "version": 3
   },
   "file_extension": ".py",
   "mimetype": "text/x-python",
   "name": "python",
   "nbconvert_exporter": "python",
   "pygments_lexer": "ipython3",
   "version": "3.7.3"
  }
 },
 "nbformat": 4,
 "nbformat_minor": 2
}
